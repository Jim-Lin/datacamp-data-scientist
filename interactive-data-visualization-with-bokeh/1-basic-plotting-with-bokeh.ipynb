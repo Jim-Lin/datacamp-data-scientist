{
 "cells": [
  {
   "cell_type": "markdown",
   "metadata": {},
   "source": [
    "### A simple scatter plot"
   ]
  },
  {
   "cell_type": "code",
   "execution_count": null,
   "metadata": {},
   "outputs": [],
   "source": [
    "# Import figure from bokeh.plotting\n",
    "from bokeh.plotting import figure\n",
    "\n",
    "# Import output_file and show from bokeh.io\n",
    "from bokeh.io import output_file, show\n",
    "\n",
    "# Create the figure: p\n",
    "p = figure(x_axis_label='fertility (children per woman)', y_axis_label='female_literacy (% population)')\n",
    "\n",
    "# Add a circle glyph to the figure p\n",
    "p.circle(fertility, female_literacy)\n",
    "\n",
    "# Call the output_file() function and specify the name of the file\n",
    "output_file('fert_lit.html')\n",
    "\n",
    "# Display the plot\n",
    "show(p)\n"
   ]
  },
  {
   "cell_type": "markdown",
   "metadata": {},
   "source": [
    "### A scatter plot with different shapes"
   ]
  },
  {
   "cell_type": "code",
   "execution_count": null,
   "metadata": {},
   "outputs": [],
   "source": [
    "# Create the figure: p\n",
    "p = figure(x_axis_label='fertility', y_axis_label='female_literacy (% population)')\n",
    "\n",
    "# Add a circle glyph to the figure p\n",
    "p.circle(fertility_latinamerica, female_literacy_latinamerica)\n",
    "\n",
    "# Add an x glyph to the figure p\n",
    "p.x(fertility_africa, female_literacy_africa)\n",
    "\n",
    "# Specify the name of the file\n",
    "output_file('fert_lit_separate.html')\n",
    "\n",
    "# Display the plot\n",
    "show(p)\n"
   ]
  },
  {
   "cell_type": "markdown",
   "metadata": {},
   "source": [
    "### Customizing your scatter plots"
   ]
  },
  {
   "cell_type": "code",
   "execution_count": null,
   "metadata": {},
   "outputs": [],
   "source": [
    "# Create the figure: p\n",
    "p = figure(x_axis_label='fertility (children per woman)', y_axis_label='female_literacy (% population)')\n",
    "\n",
    "# Add a blue circle glyph to the figure p\n",
    "p.circle(fertility_latinamerica, female_literacy_latinamerica, color='blue', size=10, alpha=0.8)\n",
    "\n",
    "# Add a red circle glyph to the figure p\n",
    "p.circle(fertility_africa, female_literacy_africa, color='red', size=10, alpha=0.8)\n",
    "\n",
    "# Specify the name of the file\n",
    "output_file('fert_lit_separate_colors.html')\n",
    "\n",
    "# Display the plot\n",
    "show(p)\n"
   ]
  },
  {
   "cell_type": "markdown",
   "metadata": {},
   "source": [
    "### Lines"
   ]
  },
  {
   "cell_type": "code",
   "execution_count": null,
   "metadata": {},
   "outputs": [],
   "source": [
    "# Import figure from bokeh.plotting\n",
    "from bokeh.plotting import figure\n",
    "\n",
    "# Create a figure with x_axis_type=\"datetime\": p\n",
    "p = figure(x_axis_type='datetime', x_axis_label='Date', y_axis_label='US Dollars')\n",
    "\n",
    "# Plot date along the x axis and price along the y axis\n",
    "p.line(date, price)\n",
    "\n",
    "# Specify the name of the output file and show the result\n",
    "output_file('line.html')\n",
    "show(p)\n"
   ]
  },
  {
   "cell_type": "markdown",
   "metadata": {},
   "source": [
    "### Lines and markers"
   ]
  },
  {
   "cell_type": "code",
   "execution_count": null,
   "metadata": {},
   "outputs": [],
   "source": [
    "# Import figure from bokeh.plotting\n",
    "from bokeh.plotting import figure\n",
    "\n",
    "# Create a figure with x_axis_type='datetime': p\n",
    "p = figure(x_axis_type='datetime', x_axis_label='Date', y_axis_label='US Dollars')\n",
    "\n",
    "# Plot date along the x-axis and price along the y-axis\n",
    "p.line(date, price)\n",
    "\n",
    "# With date on the x-axis and price on the y-axis, add a white circle glyph of size 4\n",
    "p.circle(date, price, fill_color='white', size=4)\n",
    "\n",
    "# Specify the name of the output file and show the result\n",
    "output_file('line.html')\n",
    "show(p)\n"
   ]
  },
  {
   "cell_type": "markdown",
   "metadata": {},
   "source": [
    "### Patches"
   ]
  },
  {
   "cell_type": "code",
   "execution_count": null,
   "metadata": {},
   "outputs": [],
   "source": [
    "# Create a list of az_lons, co_lons, nm_lons and ut_lons: x\n",
    "x = [az_lons, co_lons, nm_lons, ut_lons]\n",
    "\n",
    "# Create a list of az_lats, co_lats, nm_lats and ut_lats: y\n",
    "y = [az_lats, co_lats, nm_lats, ut_lats]\n",
    "\n",
    "# Add patches to figure p with line_color=white for x and y\n",
    "p.patches(x, y, line_color='white')\n",
    "\n",
    "# Specify the name of the output file and show the result\n",
    "output_file('four_corners.html')\n",
    "show(p)\n"
   ]
  },
  {
   "cell_type": "markdown",
   "metadata": {},
   "source": [
    "### Plotting data from NumPy arrays"
   ]
  },
  {
   "cell_type": "code",
   "execution_count": null,
   "metadata": {},
   "outputs": [],
   "source": [
    "# Import numpy as np\n",
    "import numpy as np\n",
    "\n",
    "# Create array using np.linspace: x\n",
    "x = np.linspace(0, 5, 100)\n",
    "\n",
    "# Create array using np.cos: y\n",
    "y = np.cos(x)\n",
    "\n",
    "# Add circles at x and y\n",
    "p.circle(x, y)\n",
    "\n",
    "# Specify the name of the output file and show the result\n",
    "output_file('numpy.html')\n",
    "show(p)\n"
   ]
  },
  {
   "cell_type": "markdown",
   "metadata": {},
   "source": [
    "### Plotting data from Pandas DataFrames"
   ]
  },
  {
   "cell_type": "code",
   "execution_count": null,
   "metadata": {},
   "outputs": [],
   "source": [
    "# Import pandas as pd\n",
    "import pandas as pd\n",
    "\n",
    "# Read in the CSV file: df\n",
    "df = pd.read_csv('auto.csv')\n",
    "\n",
    "# Import figure from bokeh.plotting\n",
    "from bokeh.plotting import figure\n",
    "\n",
    "# Create the figure: p\n",
    "p = figure(x_axis_label='HP', y_axis_label='MPG')\n",
    "\n",
    "# Plot mpg vs hp by color\n",
    "p.circle(df['hp'], df['mpg'], color=df['color'], size=10)\n",
    "\n",
    "# Specify the name of the output file and show the result\n",
    "output_file('auto-df.html')\n",
    "show(p)\n"
   ]
  },
  {
   "cell_type": "markdown",
   "metadata": {},
   "source": [
    "### The Bokeh ColumnDataSource (continued)"
   ]
  },
  {
   "cell_type": "code",
   "execution_count": null,
   "metadata": {},
   "outputs": [],
   "source": [
    "# Import the ColumnDataSource class from bokeh.plotting\n",
    "from bokeh.plotting import ColumnDataSource\n",
    "\n",
    "# Create a ColumnDataSource from df: source\n",
    "source = ColumnDataSource(df)\n",
    "\n",
    "# Add circle glyphs to the figure p\n",
    "p.circle('Year', 'Time', source=source, size=8, color='color')\n",
    "\n",
    "# Specify the name of the output file and show the result\n",
    "output_file('sprint.html')\n",
    "show(p)\n"
   ]
  },
  {
   "cell_type": "markdown",
   "metadata": {},
   "source": [
    "### Selection and non-selection glyphs"
   ]
  },
  {
   "cell_type": "code",
   "execution_count": null,
   "metadata": {},
   "outputs": [],
   "source": [
    "# Create a figure with the \"box_select\" tool: p\n",
    "p = figure(x_axis_label='Year', y_axis_label='Time', tools='box_select')\n",
    "\n",
    "# Add circle glyphs to the figure p with the selected and non-selected properties\n",
    "p.circle('Year', 'Time', source=source, selection_color='red', nonselection_alpha=0.1)\n",
    "\n",
    "# Specify the name of the output file and show the result\n",
    "output_file('selection_glyph.html')\n",
    "show(p)\n"
   ]
  },
  {
   "cell_type": "markdown",
   "metadata": {},
   "source": [
    "### Hover glyphs"
   ]
  },
  {
   "cell_type": "code",
   "execution_count": null,
   "metadata": {},
   "outputs": [],
   "source": [
    "# import the HoverTool\n",
    "from bokeh.models import HoverTool\n",
    "\n",
    "# Add circle glyphs to figure p\n",
    "p.circle(x, y, size=10,\n",
    "         fill_color='grey', alpha=0.1, line_color=None,\n",
    "         hover_fill_color='firebrick', hover_alpha=0.5,\n",
    "         hover_line_color='white')\n",
    "\n",
    "# Create a HoverTool: hover\n",
    "hover = HoverTool(tooltips=None, mode='vline')\n",
    "\n",
    "# Add the hover tool to the figure p\n",
    "p.add_tools(hover)\n",
    "\n",
    "# Specify the name of the output file and show the result\n",
    "output_file('hover_glyph.html')\n",
    "show(p)\n"
   ]
  },
  {
   "cell_type": "markdown",
   "metadata": {},
   "source": [
    "### Colormapping"
   ]
  },
  {
   "cell_type": "code",
   "execution_count": null,
   "metadata": {},
   "outputs": [],
   "source": [
    "#Import CategoricalColorMapper from bokeh.models\n",
    "from bokeh.models import CategoricalColorMapper\n",
    "\n",
    "# Convert df to a ColumnDataSource: source\n",
    "source = ColumnDataSource(df)\n",
    "\n",
    "# Make a CategoricalColorMapper object: color_mapper\n",
    "color_mapper = CategoricalColorMapper(factors=['Europe', 'Asia', 'US'],\n",
    "                                      palette=['red', 'green', 'blue'])\n",
    "\n",
    "# Add a circle glyph to the figure p\n",
    "p.circle('weight', 'mpg', source=source,\n",
    "            color=dict(field='origin', transform=color_mapper),\n",
    "            legend='origin')\n",
    "\n",
    "# Specify the name of the output file and show the result\n",
    "output_file('colormap.html')\n",
    "show(p)\n"
   ]
  }
 ],
 "metadata": {
  "kernelspec": {
   "display_name": "Python 3",
   "language": "python",
   "name": "python3"
  },
  "language_info": {
   "codemirror_mode": {
    "name": "ipython",
    "version": 3
   },
   "file_extension": ".py",
   "mimetype": "text/x-python",
   "name": "python",
   "nbconvert_exporter": "python",
   "pygments_lexer": "ipython3",
   "version": "3.6.2"
  }
 },
 "nbformat": 4,
 "nbformat_minor": 2
}
