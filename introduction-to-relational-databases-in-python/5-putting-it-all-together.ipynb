{
 "cells": [
  {
   "cell_type": "markdown",
   "metadata": {},
   "source": [
    "### Setup the Engine and MetaData"
   ]
  },
  {
   "cell_type": "code",
   "execution_count": null,
   "metadata": {},
   "outputs": [],
   "source": [
    "# Import create_engine, MetaData\n",
    "from sqlalchemy import create_engine, MetaData\n",
    "\n",
    "# Define an engine to connect to chapter5.sqlite: engine\n",
    "engine = create_engine('sqlite:///chapter5.sqlite')\n",
    "\n",
    "# Initialize MetaData: metadata\n",
    "metadata = MetaData()\n"
   ]
  },
  {
   "cell_type": "markdown",
   "metadata": {},
   "source": [
    "### Create the Table to the Database"
   ]
  },
  {
   "cell_type": "code",
   "execution_count": null,
   "metadata": {},
   "outputs": [],
   "source": [
    "# Import Table, Column, String, and Integer\n",
    "from sqlalchemy import Table, Column, String, Integer\n",
    "\n",
    "# Build a census table: census\n",
    "census = Table('census', metadata,\n",
    "               Column('state', String(30)),\n",
    "               Column('sex', String(1)),\n",
    "               Column('age', Integer()),\n",
    "               Column('pop2000', Integer()),\n",
    "               Column('pop2008', Integer()))\n",
    "\n",
    "# Create the table in the database\n",
    "metadata.create_all(engine)\n"
   ]
  },
  {
   "cell_type": "markdown",
   "metadata": {},
   "source": [
    "### Reading the Data from the CSV"
   ]
  },
  {
   "cell_type": "code",
   "execution_count": null,
   "metadata": {},
   "outputs": [],
   "source": [
    "# Create an empty list: values_list\n",
    "values_list = []\n",
    "\n",
    "# Iterate over the rows\n",
    "for row in csv_reader:\n",
    "    # Create a dictionary with the values\n",
    "    data = {'state': row[0], 'sex': row[1], 'age':row[2], 'pop2000': row[3],\n",
    "            'pop2008': row[4]}\n",
    "    # Append the dictionary to the values list\n",
    "    values_list.append(data)\n"
   ]
  },
  {
   "cell_type": "markdown",
   "metadata": {},
   "source": [
    "### Load Data from a list into the Table"
   ]
  },
  {
   "cell_type": "code",
   "execution_count": null,
   "metadata": {},
   "outputs": [],
   "source": [
    "# Import insert\n",
    "from sqlalchemy import insert\n",
    "\n",
    "# Build insert statement: stmt\n",
    "stmt = insert(census)\n",
    "\n",
    "# Use values_list to insert data: results\n",
    "results = connection.execute(stmt, values_list)\n",
    "\n",
    "# Print rowcount\n",
    "print(results.rowcount)\n"
   ]
  },
  {
   "cell_type": "markdown",
   "metadata": {},
   "source": [
    "### Build a Query to Determine the Average Age by Population"
   ]
  },
  {
   "cell_type": "code",
   "execution_count": null,
   "metadata": {},
   "outputs": [],
   "source": [
    "# Import select\n",
    "from sqlalchemy import select\n",
    "\n",
    "# Calculate weighted average age: stmt\n",
    "stmt = select([census.columns.sex,\n",
    "               (func.sum(census.columns.age * census.columns.pop2008) /\n",
    "                func.sum(census.columns.pop2008)).label('average_age')\n",
    "               ])\n",
    "\n",
    "# Group by sex\n",
    "stmt = stmt.group_by(census.columns.sex)\n",
    "\n",
    "# Execute the query and store the results: results\n",
    "results = connection.execute(stmt).fetchall()\n",
    "\n",
    "# Print the average age by sex\n",
    "for result in results:\n",
    "    print(result['sex'], result['average_age'])\n"
   ]
  },
  {
   "cell_type": "markdown",
   "metadata": {},
   "source": [
    "### Build a Query to Determine the Percentage of Population by Gender and State"
   ]
  },
  {
   "cell_type": "code",
   "execution_count": null,
   "metadata": {},
   "outputs": [],
   "source": [
    "# import case, cast and Float from sqlalchemy\n",
    "from sqlalchemy import case, cast, Float\n",
    "\n",
    "# Build a query to calculate the percentage of females in 2000: stmt\n",
    "stmt = select([census.columns.state,\n",
    "    (func.sum(\n",
    "        case([\n",
    "            (census.columns.sex == 'F', census.columns.pop2000)\n",
    "        ], else_=0)) /\n",
    "     cast(func.sum(census.columns.pop2000), Float) * 100).label('percent_female')\n",
    "])\n",
    "\n",
    "# Group By state\n",
    "stmt = stmt.group_by(census.columns.state)\n",
    "\n",
    "# Execute the query and store the results: results\n",
    "results = connection.execute(stmt).fetchall()\n",
    "\n",
    "# Print the percentage\n",
    "for result in results:\n",
    "    print(result.state, result.percent_female)\n"
   ]
  },
  {
   "cell_type": "markdown",
   "metadata": {},
   "source": [
    "### Build a Query to Determine the Difference by State from the 2000 and 2008 Censuses"
   ]
  },
  {
   "cell_type": "code",
   "execution_count": null,
   "metadata": {},
   "outputs": [],
   "source": [
    "# Build query to return state name and population difference from 2008 to 2000\n",
    "stmt = select([census.columns.state,\n",
    "     (census.columns.pop2008-census.columns.pop2000).label('pop_change')\n",
    "])\n",
    "\n",
    "# Group by State\n",
    "stmt = stmt.group_by(census.columns.state)\n",
    "\n",
    "# Order by Population Change\n",
    "stmt = stmt.order_by(desc('pop_change'))\n",
    "\n",
    "# Limit to top 10\n",
    "stmt = stmt.limit(10)\n",
    "\n",
    "# Use connection to execute the statement and fetch all results\n",
    "results = connection.execute(stmt).fetchall()\n",
    "\n",
    "# Print the state and population change for each record\n",
    "for result in results:\n",
    "    print('{}:{}'.format(result.state, result.pop_change))\n"
   ]
  }
 ],
 "metadata": {
  "kernelspec": {
   "display_name": "Python 3",
   "language": "python",
   "name": "python3"
  },
  "language_info": {
   "codemirror_mode": {
    "name": "ipython",
    "version": 3
   },
   "file_extension": ".py",
   "mimetype": "text/x-python",
   "name": "python",
   "nbconvert_exporter": "python",
   "pygments_lexer": "ipython3",
   "version": "3.6.2"
  }
 },
 "nbformat": 4,
 "nbformat_minor": 2
}
