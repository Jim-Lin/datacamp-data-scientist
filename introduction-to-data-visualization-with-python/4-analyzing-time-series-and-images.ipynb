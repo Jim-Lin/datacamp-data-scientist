{
 "cells": [
  {
   "cell_type": "markdown",
   "metadata": {},
   "source": [
    "### Multiple time series on common axes"
   ]
  },
  {
   "cell_type": "code",
   "execution_count": null,
   "metadata": {},
   "outputs": [],
   "source": [
    "# Import matplotlib.pyplot\n",
    "import matplotlib.pyplot as plt\n",
    "\n",
    "# Plot the aapl time series in blue\n",
    "plt.plot(aapl, color='blue', label='AAPL')\n",
    "\n",
    "# Plot the ibm time series in green\n",
    "plt.plot(ibm, color='green', label='IBM')\n",
    "\n",
    "# Plot the csco time series in red\n",
    "plt.plot(csco, color='red', label='CSCO')\n",
    "\n",
    "# Plot the msft time series in magenta\n",
    "plt.plot(msft , color='magenta', label='MSFT')\n",
    "\n",
    "# Add a legend in the top left corner of the plot\n",
    "plt.legend(loc='upper left')\n",
    "\n",
    "# Specify the orientation of the xticks\n",
    "plt.xticks(rotation=60)\n",
    "\n",
    "# Display the plot\n",
    "plt.show()\n"
   ]
  },
  {
   "cell_type": "markdown",
   "metadata": {},
   "source": [
    "### Multiple time series slices (1)"
   ]
  },
  {
   "cell_type": "code",
   "execution_count": null,
   "metadata": {},
   "outputs": [],
   "source": [
    "# Plot the series in the top subplot in blue\n",
    "plt.subplot(2,1,1)\n",
    "plt.xticks(rotation=45)\n",
    "plt.title('AAPL: 2001 to 2011')\n",
    "plt.plot(aapl, color='blue')\n",
    "\n",
    "# Slice aapl from '2007' to '2008' inclusive: view\n",
    "view = aapl['2007':'2008']\n",
    "\n",
    "# Plot the sliced data in the bottom subplot in black\n",
    "plt.subplot(2,1,2)\n",
    "plt.xticks(rotation=45)\n",
    "plt.title('AAPL: 2007 to 2008')\n",
    "plt.plot(view, color='black')\n",
    "plt.tight_layout()\n",
    "plt.show()\n"
   ]
  },
  {
   "cell_type": "markdown",
   "metadata": {},
   "source": [
    "### Multiple time series slices (2)"
   ]
  },
  {
   "cell_type": "code",
   "execution_count": null,
   "metadata": {},
   "outputs": [],
   "source": [
    "# Slice aapl from Nov. 2007 to Apr. 2008 inclusive: view\n",
    "view = aapl['2007-11':'2008-04']\n",
    "\n",
    "# Plot the sliced series in the top subplot in red\n",
    "plt.subplot(2, 1, 1)\n",
    "plt.xticks(rotation=45)\n",
    "plt.title('AAPL: Nov. 2007 to Apr. 2008')\n",
    "plt.plot(view, color='red')\n",
    "\n",
    "# Reassign the series by slicing the month January 2008\n",
    "view = aapl['2008-01']\n",
    "\n",
    "# Plot the sliced series in the bottom subplot in green\n",
    "plt.subplot(2, 1, 2)\n",
    "plt.xticks(rotation=45)\n",
    "plt.title('AAPL: Jan. 2008')\n",
    "plt.plot(view, color='green')\n",
    "\n",
    "# Improve spacing and display the plot\n",
    "plt.tight_layout()\n",
    "plt.show()\n"
   ]
  },
  {
   "cell_type": "markdown",
   "metadata": {},
   "source": [
    "### Plotting an inset view"
   ]
  },
  {
   "cell_type": "code",
   "execution_count": null,
   "metadata": {},
   "outputs": [],
   "source": [
    "# Slice aapl from Nov. 2007 to Apr. 2008 inclusive: view\n",
    "view = aapl['2007-11':'2008-04']\n",
    "\n",
    "# Plot the entire series \n",
    "plt.plot(aapl)\n",
    "plt.xticks(rotation=45)\n",
    "plt.title('AAPL: 2001-2011')\n",
    "\n",
    "# Specify the axes\n",
    "plt.axes([0.25, 0.5, 0.35, 0.35])\n",
    "\n",
    "# Plot the sliced series in red using the current axes\n",
    "plt.plot(view, color='red')\n",
    "plt.xticks(rotation=45)\n",
    "plt.title('2007/11-2008/04')\n",
    "plt.show()\n"
   ]
  },
  {
   "cell_type": "markdown",
   "metadata": {},
   "source": [
    "### Plotting moving averages"
   ]
  },
  {
   "cell_type": "code",
   "execution_count": null,
   "metadata": {},
   "outputs": [],
   "source": [
    "# Plot the 30-day moving average in the top left subplot in green\n",
    "plt.subplot(2, 2, 1)\n",
    "plt.plot(mean_30, color='green')\n",
    "plt.plot(aapl, 'k-.')\n",
    "plt.xticks(rotation=60)\n",
    "plt.title('30d averages')\n",
    "\n",
    "# Plot the 75-day moving average in the top right subplot in red\n",
    "plt.subplot(2, 2, 2)\n",
    "plt.plot(mean_75, 'red')\n",
    "plt.plot(aapl, 'k-.')\n",
    "plt.xticks(rotation=60)\n",
    "plt.title('75d averages')\n",
    "\n",
    "# Plot the 125-day moving average in the bottom left subplot in magenta\n",
    "plt.subplot(2, 2, 3)\n",
    "plt.plot(mean_125, color='magenta')\n",
    "plt.plot(aapl, 'k-.')\n",
    "plt.xticks(rotation=60)\n",
    "plt.title('125d averages')\n",
    "\n",
    "# Plot the 250-day moving average in the bottom right subplot in cyan\n",
    "plt.subplot(2, 2, 4)\n",
    "plt.plot(mean_250, color='cyan')\n",
    "plt.plot(aapl, 'k-.')\n",
    "plt.xticks(rotation=60)\n",
    "plt.title('250d averages')\n",
    "\n",
    "# Display the plot\n",
    "plt.show()\n"
   ]
  },
  {
   "cell_type": "markdown",
   "metadata": {},
   "source": [
    "### Plotting moving standard deviations"
   ]
  },
  {
   "cell_type": "code",
   "execution_count": null,
   "metadata": {},
   "outputs": [],
   "source": [
    "# Plot std_30 in red\n",
    "plt.plot(std_30, color='red', label='30d')\n",
    "\n",
    "# Plot std_75 in cyan\n",
    "plt.plot(std_75, color='cyan', label='75d')\n",
    "\n",
    "# Plot std_125 in green\n",
    "plt.plot(std_125, color='green', label='125d')\n",
    "\n",
    "# Plot std_250 in magenta\n",
    "plt.plot(std_250, color='magenta', label='250d')\n",
    "\n",
    "# Add a legend to the upper left\n",
    "plt.legend(loc='upper left')\n",
    "\n",
    "# Add a title\n",
    "plt.title('Moving standard deviations')\n",
    "\n",
    "# Display the plot\n",
    "plt.show()\n"
   ]
  },
  {
   "cell_type": "markdown",
   "metadata": {},
   "source": [
    "### Extracting a histogram from a grayscale image"
   ]
  },
  {
   "cell_type": "code",
   "execution_count": null,
   "metadata": {},
   "outputs": [],
   "source": [
    "# Load the image into an array: image\n",
    "image = plt.imread('640px-Unequalized_Hawkes_Bay_NZ.jpg')\n",
    "\n",
    "# Display image in top subplot using color map 'gray'\n",
    "plt.subplot(2,1,1)\n",
    "plt.title('Original image')\n",
    "plt.axis('off')\n",
    "plt.imshow(image, cmap='gray')\n",
    "\n",
    "# Flatten the image into 1 dimension: pixels\n",
    "pixels = image.flatten()\n",
    "\n",
    "# Display a histogram of the pixels in the bottom subplot\n",
    "plt.subplot(2,1,2)\n",
    "plt.xlim((0,255))\n",
    "plt.title('Normalized histogram')\n",
    "plt.hist(pixels, bins=64, range=(0,256), normed=True, color='red', alpha=0.4)\n",
    "\n",
    "# Display the plot\n",
    "plt.show()\n"
   ]
  },
  {
   "cell_type": "markdown",
   "metadata": {},
   "source": [
    "### Cumulative Distribution Function from an image histogram"
   ]
  },
  {
   "cell_type": "code",
   "execution_count": null,
   "metadata": {},
   "outputs": [],
   "source": [
    "# Load the image into an array: image\n",
    "image = plt.imread('640px-Unequalized_Hawkes_Bay_NZ.jpg')\n",
    "\n",
    "# Display image in top subplot using color map 'gray'\n",
    "plt.subplot(2,1,1)\n",
    "plt.imshow(image, cmap='gray')\n",
    "plt.title('Original image')\n",
    "plt.axis('off')\n",
    "\n",
    "# Flatten the image into 1 dimension: pixels\n",
    "pixels = image.flatten()\n",
    "\n",
    "# Display a histogram of the pixels in the bottom subplot\n",
    "plt.subplot(2,1,2)\n",
    "pdf = plt.hist(pixels, bins=64, range=(0,256), normed=False,\n",
    "               color='red', alpha=0.4)\n",
    "plt.grid('off')\n",
    "\n",
    "# Use plt.twinx() to overlay the CDF in the bottom subplot\n",
    "plt.twinx()\n",
    "\n",
    "# Display a cumulative histogram of the pixels\n",
    "cdf = plt.hist(pixels, bins=64, range=(0,256),\n",
    "               normed=True, cumulative=True,\n",
    "               color='blue', alpha=0.4)\n",
    "               \n",
    "# Specify x-axis range, hide axes, add title and display plot\n",
    "plt.xlim((0,256))\n",
    "plt.grid('off')\n",
    "plt.title('PDF & CDF (original image)')\n",
    "plt.show()\n"
   ]
  },
  {
   "cell_type": "markdown",
   "metadata": {},
   "source": [
    "### Equalizing an image histogram"
   ]
  },
  {
   "cell_type": "code",
   "execution_count": null,
   "metadata": {},
   "outputs": [],
   "source": [
    "# Load the image into an array: image\n",
    "image = plt.imread('640px-Unequalized_Hawkes_Bay_NZ.jpg')\n",
    "\n",
    "# Flatten the image into 1 dimension: pixels\n",
    "pixels = image.flatten()\n",
    "\n",
    "# Generate a cumulative histogram\n",
    "cdf, bins, patches = plt.hist(pixels, bins=256, range=(0,256), normed=True, cumulative=True)\n",
    "new_pixels = np.interp(pixels, bins[:-1], cdf*255)\n",
    "\n",
    "# Reshape new_pixels as a 2-D array: new_image\n",
    "new_image = new_pixels.reshape(image.shape)\n",
    "\n",
    "# Display the new image with 'gray' color map\n",
    "plt.subplot(2,1,1)\n",
    "plt.title('Equalized image')\n",
    "plt.axis('off')\n",
    "plt.imshow(new_image, cmap='gray')\n",
    "\n",
    "# Generate a histogram of the new pixels\n",
    "plt.subplot(2,1,2)\n",
    "pdf = plt.hist(new_pixels, bins=64, range=(0,256), normed=False,\n",
    "               color='red', alpha=0.4)\n",
    "plt.grid('off')\n",
    "\n",
    "# Use plt.twinx() to overlay the CDF in the bottom subplot\n",
    "plt.twinx()\n",
    "plt.xlim((0,256))\n",
    "plt.grid('off')\n",
    "\n",
    "# Add title\n",
    "plt.title('PDF & CDF (equalized image)')\n",
    "\n",
    "# Generate a cumulative histogram of the new pixels\n",
    "cdf = plt.hist(new_pixels, bins=64, range=(0,256),\n",
    "               cumulative=True, normed=True,\n",
    "               color='blue', alpha=0.4)\n",
    "plt.show()\n"
   ]
  },
  {
   "cell_type": "markdown",
   "metadata": {},
   "source": [
    "### Extracting histograms from a color image"
   ]
  },
  {
   "cell_type": "code",
   "execution_count": null,
   "metadata": {},
   "outputs": [],
   "source": [
    "# Load the image into an array: image\n",
    "image = plt.imread('hs-2004-32-b-small_web.jpg')\n",
    "\n",
    "# Display image in top subplot\n",
    "plt.subplot(2,1,1)\n",
    "plt.title('Original image')\n",
    "plt.axis('off')\n",
    "plt.imshow(image)\n",
    "\n",
    "# Extract 2-D arrays of the RGB channels: red, blue, green\n",
    "red, green, blue = image[:,:,0], image[:,:,1], image[:,:,2]\n",
    "\n",
    "# Flatten the 2-D arrays of the RGB channels into 1-D\n",
    "red_pixels = red.flatten()\n",
    "blue_pixels = blue.flatten()\n",
    "green_pixels = green.flatten()\n",
    "\n",
    "# Overlay histograms of the pixels of each color in the bottom subplot\n",
    "plt.subplot(2,1,2)\n",
    "plt.title('Histograms from color image')\n",
    "plt.xlim((0,256))\n",
    "plt.hist(red_pixels, bins=64, normed=True, color='red', alpha=0.2)\n",
    "plt.hist(blue_pixels, bins=64, normed=True, color='blue', alpha=0.2)\n",
    "plt.hist(green_pixels, bins=64, normed=True, color='green', alpha=0.2)\n",
    "\n",
    "# Display the plot\n",
    "plt.show()\n"
   ]
  },
  {
   "cell_type": "markdown",
   "metadata": {},
   "source": [
    "### Extracting bivariate histograms from a color image"
   ]
  },
  {
   "cell_type": "code",
   "execution_count": null,
   "metadata": {},
   "outputs": [],
   "source": [
    "# Load the image into an array: image\n",
    "image = plt.imread('hs-2004-32-b-small_web.jpg')\n",
    "\n",
    "# Extract RGB channels and flatten into 1-D array\n",
    "red, blue, green = image[:,:,0], image[:,:,1], image[:,:,2]\n",
    "red_pixels = red.flatten()\n",
    "blue_pixels = blue.flatten()\n",
    "green_pixels = green.flatten()\n",
    "\n",
    "# Generate a 2-D histogram of the red and green pixels\n",
    "plt.subplot(2,2,1)\n",
    "plt.grid('off') \n",
    "plt.xticks(rotation=60)\n",
    "plt.xlabel('red')\n",
    "plt.ylabel('green')\n",
    "plt.hist2d(red_pixels, green_pixels, bins=(32,32))\n",
    "\n",
    "# Generate a 2-D histogram of the green and blue pixels\n",
    "plt.subplot(2,2,2)\n",
    "plt.grid('off')\n",
    "plt.xticks(rotation=60)\n",
    "plt.xlabel('green')\n",
    "plt.ylabel('blue')\n",
    "plt.hist2d(green_pixels, blue_pixels, bins=(32,32))\n",
    "\n",
    "# Generate a 2-D histogram of the blue and red pixels\n",
    "plt.subplot(2,2,3)\n",
    "plt.grid('off')\n",
    "plt.xticks(rotation=60)\n",
    "plt.xlabel('blue')\n",
    "plt.ylabel('red')\n",
    "plt.hist2d(blue_pixels, red_pixels, bins=(32,32))\n",
    "\n",
    "# Display the plot\n",
    "plt.show()\n"
   ]
  }
 ],
 "metadata": {
  "kernelspec": {
   "display_name": "Python 3",
   "language": "python",
   "name": "python3"
  },
  "language_info": {
   "codemirror_mode": {
    "name": "ipython",
    "version": 3
   },
   "file_extension": ".py",
   "mimetype": "text/x-python",
   "name": "python",
   "nbconvert_exporter": "python",
   "pygments_lexer": "ipython3",
   "version": "3.6.2"
  }
 },
 "nbformat": 4,
 "nbformat_minor": 2
}
