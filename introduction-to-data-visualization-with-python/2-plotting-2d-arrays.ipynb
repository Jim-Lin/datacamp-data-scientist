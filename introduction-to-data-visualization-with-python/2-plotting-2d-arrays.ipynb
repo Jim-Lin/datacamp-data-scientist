{
 "cells": [
  {
   "cell_type": "markdown",
   "metadata": {},
   "source": [
    "### Generating meshes"
   ]
  },
  {
   "cell_type": "code",
   "execution_count": null,
   "metadata": {},
   "outputs": [],
   "source": [
    "# Import numpy and matplotlib.pyplot\n",
    "import numpy as np\n",
    "import matplotlib.pyplot as plt\n",
    "\n",
    "# Generate two 1-D arrays: u, v\n",
    "u = np.linspace(-2, 2, 41)\n",
    "v = np.linspace(-1, 1, 21)\n",
    "\n",
    "# Generate 2-D arrays from u and v: X, Y\n",
    "X,Y = np.meshgrid(u, v)\n",
    "\n",
    "# Compute Z based on X and Y\n",
    "Z = np.sin(3*np.sqrt(X**2 + Y**2)) \n",
    "\n",
    "# Display the resulting image with pcolor()\n",
    "plt.pcolor(Z)\n",
    "plt.show()\n",
    "\n",
    "# Save the figure to 'sine_mesh.png'\n",
    "plt.savefig('sine_mesh.png')\n"
   ]
  },
  {
   "cell_type": "markdown",
   "metadata": {},
   "source": [
    "### Contour & filled contour plots"
   ]
  },
  {
   "cell_type": "code",
   "execution_count": null,
   "metadata": {},
   "outputs": [],
   "source": [
    "# Generate a default contour map of the array Z\n",
    "plt.subplot(2,2,1)\n",
    "plt.contour(X, Y, Z)\n",
    "\n",
    "# Generate a contour map with 20 contours\n",
    "plt.subplot(2,2,2)\n",
    "plt.contour(X, Y, Z, 20)\n",
    "\n",
    "# Generate a default filled contour map of the array Z\n",
    "plt.subplot(2,2,3)\n",
    "plt.contourf(X, Y, Z)\n",
    "\n",
    "# Generate a default filled contour map with 20 contours\n",
    "plt.subplot(2,2,4)\n",
    "plt.contourf(X, Y, Z, 20)\n",
    "\n",
    "# Improve the spacing between subplots\n",
    "plt.tight_layout()\n",
    "\n",
    "# Display the figure\n",
    "plt.show()\n"
   ]
  },
  {
   "cell_type": "markdown",
   "metadata": {},
   "source": [
    "### Modifying colormaps"
   ]
  },
  {
   "cell_type": "code",
   "execution_count": null,
   "metadata": {},
   "outputs": [],
   "source": [
    "# Create a filled contour plot with a color map of 'viridis'\n",
    "plt.subplot(2,2,1)\n",
    "plt.contourf(X,Y,Z,20, cmap='viridis')\n",
    "plt.colorbar()\n",
    "plt.title('Viridis')\n",
    "\n",
    "# Create a filled contour plot with a color map of 'gray'\n",
    "plt.subplot(2,2,2)\n",
    "plt.contourf(X,Y,Z,20, cmap='gray')\n",
    "plt.colorbar()\n",
    "plt.title('Gray')\n",
    "\n",
    "# Create a filled contour plot with a color map of 'autumn'\n",
    "plt.subplot(2,2,3)\n",
    "plt.contourf(X,Y,Z,20, cmap='autumn')\n",
    "plt.colorbar()\n",
    "plt.title('Autumn')\n",
    "\n",
    "# Create a filled contour plot with a color map of 'winter'\n",
    "plt.subplot(2,2,4)\n",
    "plt.contourf(X,Y,Z,20, cmap='winter')\n",
    "plt.colorbar()\n",
    "plt.title('Winter')\n",
    "\n",
    "# Improve the spacing between subplots and display them\n",
    "plt.tight_layout()\n",
    "plt.show()\n"
   ]
  },
  {
   "cell_type": "markdown",
   "metadata": {},
   "source": [
    "### Using hist2d()"
   ]
  },
  {
   "cell_type": "code",
   "execution_count": null,
   "metadata": {},
   "outputs": [],
   "source": [
    "# Generate a 2-D histogram\n",
    "plt.hist2d(hp, mpg, bins=(20, 20), range=((40, 235), (8, 48)))\n",
    "\n",
    "# Add a color bar to the histogram\n",
    "plt.colorbar()\n",
    "\n",
    "# Add labels, title, and display the plot\n",
    "plt.xlabel('Horse power [hp]')\n",
    "plt.ylabel('Miles per gallon [mpg]')\n",
    "plt.title('hist2d() plot')\n",
    "plt.show()\n"
   ]
  },
  {
   "cell_type": "markdown",
   "metadata": {},
   "source": [
    "### Using hexbin()"
   ]
  },
  {
   "cell_type": "code",
   "execution_count": null,
   "metadata": {},
   "outputs": [],
   "source": [
    "# Generate a 2d histogram with hexagonal bins\n",
    "plt.hexbin(hp, mpg, gridsize=(15, 12), extent=(40, 235, 8, 48))\n",
    "\n",
    "           \n",
    "# Add a color bar to the histogram\n",
    "plt.colorbar()\n",
    "\n",
    "# Add labels, title, and display the plot\n",
    "plt.xlabel('Horse power [hp]')\n",
    "plt.ylabel('Miles per gallon [mpg]')\n",
    "plt.title('hexbin() plot')\n",
    "plt.show()\n"
   ]
  },
  {
   "cell_type": "markdown",
   "metadata": {},
   "source": [
    "### Loading, examining images"
   ]
  },
  {
   "cell_type": "code",
   "execution_count": null,
   "metadata": {},
   "outputs": [],
   "source": [
    "# Load the image into an array: img\n",
    "img = plt.imread('480px-Astronaut-EVA.jpg')\n",
    "\n",
    "# Print the shape of the image\n",
    "print(img.shape)\n",
    "\n",
    "# Display the image\n",
    "plt.imshow(img)\n",
    "\n",
    "# Hide the axes\n",
    "plt.axis('off')\n",
    "plt.show()\n"
   ]
  },
  {
   "cell_type": "markdown",
   "metadata": {},
   "source": [
    "### Pseudocolor plot from image data"
   ]
  },
  {
   "cell_type": "code",
   "execution_count": null,
   "metadata": {},
   "outputs": [],
   "source": [
    "# Load the image into an array: img\n",
    "img = plt.imread('480px-Astronaut-EVA.jpg')\n",
    "\n",
    "# Print the shape of the image\n",
    "print(img.shape)\n",
    "\n",
    "# Compute the sum of the red, green and blue channels: intensity\n",
    "intensity = img.sum(axis=2)\n",
    "\n",
    "# Print the shape of the intensity\n",
    "print(intensity.shape)\n",
    "\n",
    "# Display the intensity with a colormap of 'gray'\n",
    "plt.imshow(intensity, cmap='gray')\n",
    "\n",
    "# Add a colorbar\n",
    "plt.colorbar()\n",
    "\n",
    "# Hide the axes and show the figure\n",
    "plt.axis('off')\n",
    "plt.show()\n"
   ]
  },
  {
   "cell_type": "markdown",
   "metadata": {},
   "source": [
    "### Extent and aspect"
   ]
  },
  {
   "cell_type": "code",
   "execution_count": null,
   "metadata": {},
   "outputs": [],
   "source": [
    "# Load the image into an array: img\n",
    "img = plt.imread('480px-Astronaut-EVA.jpg')\n",
    "\n",
    "# Specify the extent and aspect ratio of the top left subplot\n",
    "plt.subplot(2,2,1)\n",
    "plt.title('extent=(-1,1,-1,1),\\naspect=0.5') \n",
    "plt.xticks([-1,0,1])\n",
    "plt.yticks([-1,0,1])\n",
    "plt.imshow(img, extent=(-1,1,-1,1), aspect=0.5)\n",
    "\n",
    "# Specify the extent and aspect ratio of the top right subplot\n",
    "plt.subplot(2,2,2)\n",
    "plt.title('extent=(-1,1,-1,1),\\naspect=1')\n",
    "plt.xticks([-1,0,1])\n",
    "plt.yticks([-1,0,1])\n",
    "plt.imshow(img, extent=(-1,1,-1,1), aspect=1)\n",
    "\n",
    "# Specify the extent and aspect ratio of the bottom left subplot\n",
    "plt.subplot(2,2,3)\n",
    "plt.title('extent=(-1,1,-1,1),\\naspect=2')\n",
    "plt.xticks([-1,0,1])\n",
    "plt.yticks([-1,0,1])\n",
    "plt.imshow(img, extent=(-1,1,-1,1), aspect=2)\n",
    "\n",
    "# Specify the extent and aspect ratio of the bottom right subplot\n",
    "plt.subplot(2,2,4)\n",
    "plt.title('extent=(-2,2,-1,1),\\naspect=2')\n",
    "plt.xticks([-2,-1,0,1,2])\n",
    "plt.yticks([-1,0,1])\n",
    "plt.imshow(img, extent=(-2,2,-1,1), aspect=2)\n",
    "\n",
    "# Improve spacing and display the figure\n",
    "plt.tight_layout()\n",
    "plt.show()\n"
   ]
  },
  {
   "cell_type": "markdown",
   "metadata": {},
   "source": [
    "### Rescaling pixel intensities"
   ]
  },
  {
   "cell_type": "code",
   "execution_count": null,
   "metadata": {},
   "outputs": [],
   "source": [
    "# Load the image into an array: image\n",
    "image = plt.imread('640px-Unequalized_Hawkes_Bay_NZ.jpg')\n",
    "\n",
    "# Extract minimum and maximum values from the image: pmin, pmax\n",
    "pmin, pmax = image.min(), image.max()\n",
    "print(\"The smallest & largest pixel intensities are %d & %d.\" % (pmin, pmax))\n",
    "\n",
    "# Rescale the pixels: rescaled_image\n",
    "rescaled_image = 256*(image-pmin) / (pmax-pmin)\n",
    "print(\"The rescaled smallest & largest pixel intensities are %.1f & %.1f.\" % \n",
    "      (rescaled_image.min(), rescaled_image.max()))\n",
    "\n",
    "# Display the original image in the top subplot\n",
    "plt.subplot(2,1,1)\n",
    "plt.title('original image')\n",
    "plt.axis('off')\n",
    "plt.imshow(image)\n",
    "\n",
    "# Display the rescaled image in the bottom subplot\n",
    "plt.subplot(2,1,2)\n",
    "plt.title('rescaled image')\n",
    "plt.axis('off')\n",
    "plt.imshow(rescaled_image)\n",
    "\n",
    "plt.show()\n"
   ]
  }
 ],
 "metadata": {
  "kernelspec": {
   "display_name": "Python 3",
   "language": "python",
   "name": "python3"
  },
  "language_info": {
   "codemirror_mode": {
    "name": "ipython",
    "version": 3
   },
   "file_extension": ".py",
   "mimetype": "text/x-python",
   "name": "python",
   "nbconvert_exporter": "python",
   "pygments_lexer": "ipython3",
   "version": "3.6.2"
  }
 },
 "nbformat": 4,
 "nbformat_minor": 2
}
